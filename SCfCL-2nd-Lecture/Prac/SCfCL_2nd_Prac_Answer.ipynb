{
  "nbformat": 4,
  "nbformat_minor": 0,
  "metadata": {
    "colab": {
      "provenance": []
    },
    "kernelspec": {
      "name": "python3",
      "display_name": "Python 3"
    },
    "language_info": {
      "name": "python"
    }
  },
  "cells": [
    {
      "cell_type": "markdown",
      "source": [
        "問題1: 年齢を入力して，18歳未満なら「未成年」，18歳以上なら「成年」と出力するプログラムを書いてください．"
      ],
      "metadata": {
        "id": "UhFuNEeJHw78"
      }
    },
    {
      "cell_type": "code",
      "source": [
        "# 年齢を入力\n",
        "age = int(input('年齢を入力してください：　'))\n",
        "\n",
        "# 条件分岐（18未満か否か判定）\n",
        "if age < 18:\n",
        "  print('未成年')\n",
        "else:\n",
        "  print('成年')"
      ],
      "metadata": {
        "id": "bFs8zE75H1sJ",
        "colab": {
          "base_uri": "https://localhost:8080/"
        },
        "outputId": "67cd28be-4db5-4d18-a894-dfaf768be964"
      },
      "execution_count": null,
      "outputs": [
        {
          "output_type": "stream",
          "name": "stdout",
          "text": [
            "年齢を入力してください：　18\n",
            "成年\n"
          ]
        }
      ]
    },
    {
      "cell_type": "markdown",
      "source": [
        "問題2: 2つの数値を入力して，それらの数値が等しい場合は「等しい」，異なる場合は「異なる」と出力するプログラムを書いてください．"
      ],
      "metadata": {
        "id": "Phs5RhCjH2I8"
      }
    },
    {
      "cell_type": "code",
      "source": [
        "# 2つの数値を入力\n",
        "num1 = int(input('1つ目の数値を入力してください：　'))\n",
        "num2 = int(input('2つ目の数値を入力してください：　'))\n",
        "\n",
        "# 条件分岐\n",
        "if num1 == num2:\n",
        "  print('等しい')\n",
        "else:\n",
        "  print('異なる')"
      ],
      "metadata": {
        "id": "guAjgZmOH3s8",
        "colab": {
          "base_uri": "https://localhost:8080/"
        },
        "outputId": "0f0de446-b1f8-4c57-abbf-4863e7378895"
      },
      "execution_count": null,
      "outputs": [
        {
          "output_type": "stream",
          "name": "stdout",
          "text": [
            "1つ目の数値を入力してください：　10\n",
            "2つ目の数値を入力してください：　10\n",
            "等しい\n"
          ]
        }
      ]
    },
    {
      "cell_type": "markdown",
      "source": [
        "問題3: 整数を入力して，その数値が偶数なら「偶数」，奇数なら「奇数」と出力するプログラムを書いてください．"
      ],
      "metadata": {
        "id": "ysctT0c6H34v"
      }
    },
    {
      "cell_type": "code",
      "source": [
        "# 整数を入力\n",
        "num = int(input('整数を入力してください：　'))\n",
        "\n",
        "# 条件分岐\n",
        "if num%2 == 0:\n",
        "  print('偶数')\n",
        "else:\n",
        "  print('奇数')"
      ],
      "metadata": {
        "id": "79e19z_AH6tZ",
        "colab": {
          "base_uri": "https://localhost:8080/"
        },
        "outputId": "297f6968-38f1-4c3a-fcb1-bb72dd5682e2"
      },
      "execution_count": null,
      "outputs": [
        {
          "output_type": "stream",
          "name": "stdout",
          "text": [
            "整数を入力してください：　3\n",
            "奇数\n"
          ]
        }
      ]
    },
    {
      "cell_type": "markdown",
      "source": [
        "問題4: 1から7までの整数を入力して，それに対応する曜日を表示するプログラムを書いてください．例えば，1なら「月曜日」，2なら「火曜日」という具体的な表示が必要です．"
      ],
      "metadata": {
        "id": "SBHSm4ORH66A"
      }
    },
    {
      "cell_type": "code",
      "source": [
        "# 1から7までの整数を入力\n",
        "num = int(input('1から7までの整数を入力してください：　'))\n",
        "\n",
        "# 条件分岐\n",
        "if num == 1:\n",
        "  print('月曜日')\n",
        "elif num == 2:\n",
        "  print('火曜日')\n",
        "elif num == 3:\n",
        "  print('水曜日')\n",
        "elif num == 4:\n",
        "  print('木曜日')\n",
        "elif num == 5:\n",
        "  print('金曜日')\n",
        "elif num == 6:\n",
        "  print('土曜日')\n",
        "elif num == 7:\n",
        "  print('日曜日')\n",
        "else:\n",
        "  print('入力した値が1から7の範囲外でした．')"
      ],
      "metadata": {
        "id": "iMign_KuH-UR",
        "colab": {
          "base_uri": "https://localhost:8080/"
        },
        "outputId": "64fa07c4-312a-4a7e-ba3c-8f1a5858f0dc"
      },
      "execution_count": null,
      "outputs": [
        {
          "output_type": "stream",
          "name": "stdout",
          "text": [
            "1から7までの整数を入力してください：　10\n",
            "入力した値が1から7の範囲外でした．\n"
          ]
        }
      ]
    },
    {
      "cell_type": "markdown",
      "source": [
        "問題5: 点数を入力して，点数に応じて以下の評価を出力するプログラムを書いてください．\n",
        "- 点数が90以上の場合: 「S」\n",
        "- 点数が80以上90未満の場合:「A」\n",
        "- 点数が70以上80未満の場合:「B」\n",
        "- 点数が60以上70未満の場合:「C」\n",
        "- 点数が60未満の場合:「D」\n"
      ],
      "metadata": {
        "id": "fET-7B9zH-bR"
      }
    },
    {
      "cell_type": "code",
      "source": [
        "# 点数の入力\n",
        "point = int(input('点数を入力してください：　'))\n",
        "\n",
        "# 条件分岐\n",
        "if point >= 90:\n",
        "  print('S')\n",
        "elif point >= 80:\n",
        "  print('A')\n",
        "elif point >= 70:\n",
        "  print('B')\n",
        "elif point >= 60:\n",
        "  print('C')\n",
        "else:\n",
        "  print('D')"
      ],
      "metadata": {
        "id": "qjcMj-WAILfI",
        "colab": {
          "base_uri": "https://localhost:8080/"
        },
        "outputId": "5fe1cc07-58b1-4872-ee7e-cea96efeead0"
      },
      "execution_count": null,
      "outputs": [
        {
          "output_type": "stream",
          "name": "stdout",
          "text": [
            "点数を入力してください：　72\n",
            "B\n"
          ]
        }
      ]
    }
  ]
}