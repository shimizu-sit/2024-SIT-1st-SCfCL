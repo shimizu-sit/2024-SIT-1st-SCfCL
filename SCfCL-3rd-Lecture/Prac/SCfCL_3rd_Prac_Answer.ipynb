{
  "nbformat": 4,
  "nbformat_minor": 0,
  "metadata": {
    "colab": {
      "provenance": []
    },
    "kernelspec": {
      "name": "python3",
      "display_name": "Python 3"
    },
    "language_info": {
      "name": "python"
    }
  },
  "cells": [
    {
      "cell_type": "markdown",
      "source": [
        "# コンピュータリテラシ発展 第3回 課題\n",
        "\n",
        "今回の課題は**リスト型**，**タップル型**，**辞書型**，**for文**，**while文**に関する問題を合計10問となっています．\n",
        "\n",
        "問題の最後には結果を表示してください．"
      ],
      "metadata": {
        "id": "8qZfGQT4EuLM"
      }
    },
    {
      "cell_type": "markdown",
      "source": [
        "## リスト（List）に関する課題"
      ],
      "metadata": {
        "id": "tIfC-YwmE1wP"
      }
    },
    {
      "cell_type": "markdown",
      "source": [
        "**問題1:** 空のリストを作成し，そのリストに整数1,2,3を追加してください．"
      ],
      "metadata": {
        "id": "UhFuNEeJHw78"
      }
    },
    {
      "cell_type": "code",
      "source": [
        "lst = []      # 空のリストを作成\n",
        "lst.append(1) # リストに1を追加\n",
        "lst.append(2) # リストに2を追加\n",
        "lst.append(3) # リストに3を追加\n",
        "print(lst)    # リストの表示"
      ],
      "metadata": {
        "id": "bFs8zE75H1sJ",
        "colab": {
          "base_uri": "https://localhost:8080/"
        },
        "outputId": "4d9f24e7-cef6-44e6-9cab-e0dae030ccc3"
      },
      "execution_count": null,
      "outputs": [
        {
          "output_type": "stream",
          "name": "stdout",
          "text": [
            "[1, 2, 3]\n"
          ]
        }
      ]
    },
    {
      "cell_type": "markdown",
      "source": [
        "extendを使う方法"
      ],
      "metadata": {
        "id": "QXUq-Svq4AWQ"
      }
    },
    {
      "cell_type": "code",
      "source": [
        "lst = []      # 空のリストを作成\n",
        "lst.extend([1, 2, 3]) # リストに1,2,3を追加\n",
        "print(lst)    # リストの表示"
      ],
      "metadata": {
        "colab": {
          "base_uri": "https://localhost:8080/"
        },
        "id": "nbf4gt2u4DwY",
        "outputId": "b8f55ab6-5d1f-4853-d3a8-c246b143c0c8"
      },
      "execution_count": null,
      "outputs": [
        {
          "output_type": "stream",
          "name": "stdout",
          "text": [
            "[1, 2, 3]\n"
          ]
        }
      ]
    },
    {
      "cell_type": "markdown",
      "source": [
        "**問題2:** リスト`[10,20,30,40,50]`の要素を逆順に並び替えてください．"
      ],
      "metadata": {
        "id": "SBHSm4ORH66A"
      }
    },
    {
      "cell_type": "code",
      "source": [
        "lst = [10, 20, 30, 40, 50] # リストを作成\n",
        "lst_rev = []               # 逆順を入れる空のリストを作成\n",
        "j = -1                     # 逆順用のインデックス用変数\n",
        "\n",
        "for i in lst:              # lstの内容をiに入れてfor文を回す\n",
        "  lst_rev.append(lst[j])   # lst_revにlstのインデックスjの要素を追加\n",
        "  j -= 1                   # jに-1を足してインデックスを左にずらす\n",
        "\n",
        "print(lst_rev)             # リストの表示"
      ],
      "metadata": {
        "id": "iMign_KuH-UR"
      },
      "execution_count": null,
      "outputs": []
    },
    {
      "cell_type": "markdown",
      "source": [
        "`reverse()` メソッドを使う方法もあります"
      ],
      "metadata": {
        "id": "S2SEp9pp410z"
      }
    },
    {
      "cell_type": "code",
      "source": [
        "lst = [10, 20, 30, 40, 50]  # リストを作成\n",
        "lst.reverse()               # リストの逆順に並べ替える\n",
        "print(lst)                  # リストの表示"
      ],
      "metadata": {
        "colab": {
          "base_uri": "https://localhost:8080/"
        },
        "id": "2Hofi_bI46Ae",
        "outputId": "ee01a681-9b38-4922-9286-51d251a39a79"
      },
      "execution_count": null,
      "outputs": [
        {
          "output_type": "stream",
          "name": "stdout",
          "text": [
            "[50, 40, 30, 20, 10]\n"
          ]
        }
      ]
    },
    {
      "cell_type": "markdown",
      "source": [
        "スライスを使う方法もあります"
      ],
      "metadata": {
        "id": "j__neC8r4_Lc"
      }
    },
    {
      "cell_type": "code",
      "source": [
        "lst = [10, 20, 30, 40, 50]  # リストを作成\n",
        "lst = lst[::-1]             # スライスを使ってlstの要素を逆順にしてlstに入れる\n",
        "print(lst)                  # リストの表示"
      ],
      "metadata": {
        "colab": {
          "base_uri": "https://localhost:8080/"
        },
        "id": "QqueSvo-5BNB",
        "outputId": "222e8986-3933-424a-eb57-840cd7c4771c"
      },
      "execution_count": null,
      "outputs": [
        {
          "output_type": "stream",
          "name": "stdout",
          "text": [
            "[50, 40, 30, 20, 10]\n"
          ]
        }
      ]
    },
    {
      "cell_type": "markdown",
      "source": [
        "## タプル（Tuple）に関する課題"
      ],
      "metadata": {
        "id": "SDBlzpZ8KWsF"
      }
    },
    {
      "cell_type": "markdown",
      "source": [
        "**問題3:** 複数の整数を含むタプル`(1,2,3,4,5)`を作成し，その要素数を表示してください．"
      ],
      "metadata": {
        "id": "mzsbS0trKi1I"
      }
    },
    {
      "cell_type": "code",
      "source": [
        "tpl = (1, 2, 3, 4, 5)           # タプルを作成\n",
        "print(len(tpl))                 # タプルの要素数を表示"
      ],
      "metadata": {
        "id": "Y4wMCkCcKi1I",
        "colab": {
          "base_uri": "https://localhost:8080/"
        },
        "outputId": "a38e2da7-404b-46bf-9a46-ee08aa10e8c4"
      },
      "execution_count": null,
      "outputs": [
        {
          "output_type": "stream",
          "name": "stdout",
          "text": [
            "(1, 2, 3, 4, 5)\n"
          ]
        }
      ]
    },
    {
      "cell_type": "markdown",
      "source": [
        "**問題4:** 問題3で作成したタプルを利用して，インデックス3の位置にある要素を表示してください．"
      ],
      "metadata": {
        "id": "U2CRl2LUKi1J"
      }
    },
    {
      "cell_type": "code",
      "source": [
        "print(tpl[3])                   # 作成したタプルのインデックス「3」の要素を表示"
      ],
      "metadata": {
        "id": "RicgOWKtKi1J",
        "colab": {
          "base_uri": "https://localhost:8080/"
        },
        "outputId": "bc7f46fc-6acd-4c3a-a061-ac91ff2761ee"
      },
      "execution_count": null,
      "outputs": [
        {
          "output_type": "stream",
          "name": "stdout",
          "text": [
            "4\n"
          ]
        }
      ]
    },
    {
      "cell_type": "markdown",
      "source": [
        "## 辞書（Dict）に関する課題"
      ],
      "metadata": {
        "id": "B4dRcSufLndG"
      }
    },
    {
      "cell_type": "markdown",
      "source": [
        "**問題5:** 辞書 `{'name': 'Alice', 'age': 30, 'city': 'New York'}` からキー `'age'` に対応する値を取得してください．"
      ],
      "metadata": {
        "id": "Rb4VDymiLndV"
      }
    },
    {
      "cell_type": "code",
      "source": [
        "Human = {'name': 'Alice', 'age': 30, 'city': 'New York'}  # 辞書を作成\n",
        "print(Human['age'])                                       # 辞書で'age'キーに対応するバリューを表示"
      ],
      "metadata": {
        "id": "BDgVMUdfLndV",
        "colab": {
          "base_uri": "https://localhost:8080/"
        },
        "outputId": "26e5f1a4-5d37-4876-bafb-17049f506501"
      },
      "execution_count": null,
      "outputs": [
        {
          "output_type": "stream",
          "name": "stdout",
          "text": [
            "30\n"
          ]
        }
      ]
    },
    {
      "cell_type": "markdown",
      "source": [
        "**問題6:** 辞書 `{'x': 10, 'y': 20, 'z': 30}` のキーと値をすべて表示してください。"
      ],
      "metadata": {
        "id": "7JShvBboLndV"
      }
    },
    {
      "cell_type": "code",
      "source": [
        "num = {'x': 10, 'y': 20, 'z': 30}   # 辞書を作成\n",
        "for k, v in num.items():            # num.items()を使ってキーとバリューをk, vにいれる\n",
        "  print(k, v)                       # k, vを表示"
      ],
      "metadata": {
        "id": "IV7rHKHKLndV",
        "colab": {
          "base_uri": "https://localhost:8080/"
        },
        "outputId": "3a7da2fd-d4eb-4f87-8a10-2e0172088e5d"
      },
      "execution_count": null,
      "outputs": [
        {
          "output_type": "stream",
          "name": "stdout",
          "text": [
            "x 10\n",
            "y 20\n",
            "z 30\n"
          ]
        }
      ]
    },
    {
      "cell_type": "markdown",
      "source": [
        "## 繰り返し（for文）に関する課題"
      ],
      "metadata": {
        "id": "eoAVgCwrGOlT"
      }
    },
    {
      "cell_type": "markdown",
      "source": [
        "**問題7:** 1から10までの整数をforループを使用して表示してください．"
      ],
      "metadata": {
        "id": "Cf3ILTEqGOlg"
      }
    },
    {
      "cell_type": "code",
      "source": [
        "for num in range(1,11):             # for文とrange()関数を使って1から10までの値をnumにいれる\n",
        "  print(num)                        # numを表示"
      ],
      "metadata": {
        "id": "ZDGAVLVWGOlg",
        "colab": {
          "base_uri": "https://localhost:8080/"
        },
        "outputId": "9cd66813-0100-4d47-f795-38340b75dfbe"
      },
      "execution_count": null,
      "outputs": [
        {
          "output_type": "stream",
          "name": "stdout",
          "text": [
            "1\n",
            "2\n",
            "3\n",
            "4\n",
            "5\n",
            "6\n",
            "7\n",
            "8\n",
            "9\n",
            "10\n"
          ]
        }
      ]
    },
    {
      "cell_type": "markdown",
      "source": [
        "**問題8:** リスト `['cat', 'dog', 'rabbit', 'mouse']`の各要素をインデックスと共に表示してください．"
      ],
      "metadata": {
        "id": "pQJ2BYZgGOlh"
      }
    },
    {
      "cell_type": "code",
      "source": [
        "Animal = ['cat', 'dog', 'rabbit', 'mouse']\n",
        "for i, animal in enumerate(Animal):\n",
        "  print(i, animal)"
      ],
      "metadata": {
        "id": "uX6lywXBGOlh",
        "colab": {
          "base_uri": "https://localhost:8080/"
        },
        "outputId": "353fdddf-2f5e-48b8-dd9a-979ab5c5db41"
      },
      "execution_count": null,
      "outputs": [
        {
          "output_type": "stream",
          "name": "stdout",
          "text": [
            "0 cat\n",
            "1 dog\n",
            "2 rabbit\n",
            "3 mouse\n"
          ]
        }
      ]
    },
    {
      "cell_type": "markdown",
      "source": [
        "## 繰り返し（while文）に関する課題"
      ],
      "metadata": {
        "id": "ed7gItB1ImxX"
      }
    },
    {
      "cell_type": "markdown",
      "source": [
        "**問題9:** 1から50までの整数をwhileループで表示し，5と7の最小公倍数が表示されたら表示を終了してください．"
      ],
      "metadata": {
        "id": "fgkb0FCEImxk"
      }
    },
    {
      "cell_type": "code",
      "source": [
        "num = 1     # 初期値\n",
        "while num <= 50:    # whileで50まで繰り返す\n",
        "    print(num)      # 整数を表示\n",
        "    if num % 5 == 0 and num % 7 == 0:   # 5と7の最小公倍数かを確認\n",
        "        break  # 最小公倍数が見つかったらループを終了\n",
        "    # 次の整数に進む\n",
        "    num += 1"
      ],
      "metadata": {
        "id": "LZnk3WhDImxk",
        "colab": {
          "base_uri": "https://localhost:8080/"
        },
        "outputId": "7e951e16-5087-47e9-d4f9-55c40287ffaf"
      },
      "execution_count": null,
      "outputs": [
        {
          "output_type": "stream",
          "name": "stdout",
          "text": [
            "1\n",
            "2\n",
            "3\n",
            "4\n",
            "5\n",
            "6\n",
            "7\n",
            "8\n",
            "9\n",
            "10\n",
            "11\n",
            "12\n",
            "13\n",
            "14\n",
            "15\n",
            "16\n",
            "17\n",
            "18\n",
            "19\n",
            "20\n",
            "21\n",
            "22\n",
            "23\n",
            "24\n",
            "25\n",
            "26\n",
            "27\n",
            "28\n",
            "29\n",
            "30\n",
            "31\n",
            "32\n",
            "33\n",
            "34\n",
            "35\n"
          ]
        }
      ]
    },
    {
      "cell_type": "markdown",
      "source": [
        "**問題10:** 1月から12月までの英語表記のリストを作成して，whileループで表示し，今月(4月)が表示されたら表示を終了してください．"
      ],
      "metadata": {
        "id": "FPlfSaOPImxk"
      }
    },
    {
      "cell_type": "code",
      "source": [
        "# 月の英語表記のリストを作成\n",
        "months = ['January', 'February', 'March', 'April', 'May', 'June', 'July', 'August', 'September', 'October', 'November', 'December']\n",
        "i = 0                           # 初期化\n",
        "while i < 12:                   # whileループで月の英語表記を順番に表示\n",
        "    print(months[i])            # 月の英語表記を表示\n",
        "    if months[i] == 'April':    # monthsのインデックスiがAprilか否かを確認\n",
        "        break                   # breakでwhileを終了\n",
        "    i += 1                      # iに1を足す\n"
      ],
      "metadata": {
        "id": "1z-ssz8XImxk",
        "colab": {
          "base_uri": "https://localhost:8080/"
        },
        "outputId": "08eeac17-1fd1-4c8d-daee-ea446ff08e75"
      },
      "execution_count": null,
      "outputs": [
        {
          "output_type": "stream",
          "name": "stdout",
          "text": [
            "January\n",
            "February\n",
            "March\n",
            "April\n"
          ]
        }
      ]
    }
  ]
}